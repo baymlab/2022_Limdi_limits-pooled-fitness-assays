{
 "cells": [
  {
   "cell_type": "markdown",
   "id": "ef8b9d64",
   "metadata": {},
   "source": [
    "### Fitness assay simulations with noise introduced during bottlenecks\n",
    "\n",
    "Similar approach to simulating fitness assays with one key difference: I define bottleneck size and sequencing depth for a \"typical\" neutral mutation. As an example if the bottleneck size is 50, and sequencing depth is 100, and the number of cell counts after bottleneck are X, the number of reads is drawn from a Poisson distribution with mean 2X "
   ]
  },
  {
   "cell_type": "code",
   "execution_count": 1,
   "id": "ae70f41b",
   "metadata": {},
   "outputs": [],
   "source": [
    "#importing libraries\n",
    "import numpy as np\n",
    "from scipy import stats\n",
    "import matplotlib.pyplot as plt\n",
    "from Bio.SeqIO.FastaIO import SimpleFastaParser\n",
    "import re\n",
    "import pandas as pd\n",
    "import seaborn as sns\n",
    "import pathlib\n",
    "import os"
   ]
  },
  {
   "cell_type": "code",
   "execution_count": 2,
   "id": "2b80c903",
   "metadata": {},
   "outputs": [],
   "source": [
    "sns.set_theme()\n",
    "sns.set_context('paper')"
   ]
  },
  {
   "cell_type": "code",
   "execution_count": 3,
   "id": "9de3a1f1",
   "metadata": {},
   "outputs": [
    {
     "name": "stdout",
     "output_type": "stream",
     "text": [
      "/Users/anuraglimdi/github/2022_Limdi_limits-pooled-fitness-assays/AnalysisNotebooks\n"
     ]
    }
   ],
   "source": [
    "#current working directory\n",
    "cwd = os.getcwd()\n",
    "print(cwd)"
   ]
  },
  {
   "cell_type": "code",
   "execution_count": 4,
   "id": "8175ac19",
   "metadata": {},
   "outputs": [
    {
     "name": "stdout",
     "output_type": "stream",
     "text": [
      "/Users/anuraglimdi/github/2022_Limdi_limits-pooled-fitness-assays\n"
     ]
    }
   ],
   "source": [
    "#use the pathlib.Path function to get the parent directories-> goal is to navigate to directory with the metadata\n",
    "# and the fitness trajectories data\n",
    "path = pathlib.Path(cwd)\n",
    "repo = str(path.parents[0])\n",
    "print(path.parents[0]) #this should be the base directory for the github repository: the exact path will differ for \n",
    "#each unique user"
   ]
  },
  {
   "cell_type": "code",
   "execution_count": 5,
   "id": "d3a5cc68",
   "metadata": {},
   "outputs": [],
   "source": [
    "#paths for metadat and mutant trajectories\n",
    "metadata_path = repo+'/Metadata/'\n",
    "data_path = repo+'/ProcessedData/Mutant_Trajectories/'"
   ]
  },
  {
   "cell_type": "code",
   "execution_count": 6,
   "id": "a83066c5",
   "metadata": {},
   "outputs": [],
   "source": [
    "#names of libraries\n",
    "libraries = ['REL606']\n",
    "#more interpretable names for the figures in the paper\n",
    "libraries2 = ['Anc']"
   ]
  },
  {
   "cell_type": "code",
   "execution_count": 7,
   "id": "b8f038c9",
   "metadata": {},
   "outputs": [],
   "source": [
    "#opening the pandas file with all the metadata!\n",
    "all_data = pd.read_csv(metadata_path+\"all_metadata_REL606.txt\", sep=\"\\t\")\n",
    "names = all_data.iloc[:,0]\n",
    "gene_start = all_data.iloc[:,3]\n",
    "gene_end = all_data.iloc[:,4]\n",
    "strand = all_data.iloc[:,5]\n",
    "locations = np.transpose(np.vstack([gene_start,gene_end,strand]))\n",
    "k12_tags = all_data.iloc[:,2]\n",
    "uniprot_rel606 = all_data.iloc[:,6]\n",
    "\n",
    "#genomic coordinates of pseudogenes\n",
    "locations_pseudogenes = np.loadtxt(metadata_path+'pseudogenes_locations_REL606.txt')"
   ]
  },
  {
   "cell_type": "code",
   "execution_count": 8,
   "id": "994028c2",
   "metadata": {},
   "outputs": [],
   "source": [
    "#fractions of the gene at the 5' and 3' ends to be excluded from analysis because they insertions there may not actually\n",
    "#be disruptive to protein function\n",
    "frac5p = 0.1\n",
    "frac3p = 0.25\n",
    "\n",
    "#reading the REL606 reference genome\n",
    "with open(metadata_path+\"rel606_reference.fasta\") as in_handle:\n",
    "    for title, seq in SimpleFastaParser(in_handle):\n",
    "        ta_sites = [m.start(0) for m in re.finditer('TA', seq)]\n",
    "ta_sites = np.array(ta_sites)\n",
    "\n",
    "#counting how many TA sites are present in the interior of each gene\n",
    "ta_gene = np.zeros(len(names))\n",
    "for i in range(0,len(names)):\n",
    "    start = locations[i, 0]\n",
    "    end = locations[i, 1]\n",
    "    length = end - start\n",
    "    #if the gene is on the forward strand\n",
    "    if locations[i,2]==1:\n",
    "        #counting sites only in the middle of the gene, excluding defined fractions at each end\n",
    "        ta_gene[i] = np.sum((ta_sites > start+length*frac5p)&(ta_sites < end - length*frac3p))\n",
    "    elif locations[i,2]==-1:\n",
    "        ta_gene[i] = np.sum((ta_sites < start+length*frac5p)&(ta_sites > end - length*frac3p))"
   ]
  },
  {
   "cell_type": "code",
   "execution_count": 9,
   "id": "247839c6",
   "metadata": {},
   "outputs": [],
   "source": [
    "#all the information from the fitness assay condensed into a couple of matrices\n",
    "counts_all_green = np.zeros([5, len(ta_sites)])\n",
    "counts_all_red = np.zeros([5, len(ta_sites)])\n",
    "\n",
    "#loading the new file where I have the counts for each TA site for all time points\n",
    "gname = data_path+'/green_'+libraries[0]+'_merged_all_TAsites.txt'\n",
    "greendata = np.loadtxt(gname)\n",
    "rname = data_path+'/red_'+libraries[0]+'_merged_all_TAsites.txt'\n",
    "reddata = np.loadtxt(rname)\n",
    "#now for extracting the UMI corrected counts\n",
    "counts_all_green = greendata[2:11:2,:]\n",
    "counts_all_red = reddata[2:11:2,:]"
   ]
  },
  {
   "cell_type": "code",
   "execution_count": null,
   "id": "a77a14a2",
   "metadata": {},
   "outputs": [],
   "source": []
  }
 ],
 "metadata": {
  "kernelspec": {
   "display_name": "Python 3 (ipykernel)",
   "language": "python",
   "name": "python3"
  },
  "language_info": {
   "codemirror_mode": {
    "name": "ipython",
    "version": 3
   },
   "file_extension": ".py",
   "mimetype": "text/x-python",
   "name": "python",
   "nbconvert_exporter": "python",
   "pygments_lexer": "ipython3",
   "version": "3.9.13"
  }
 },
 "nbformat": 4,
 "nbformat_minor": 5
}
