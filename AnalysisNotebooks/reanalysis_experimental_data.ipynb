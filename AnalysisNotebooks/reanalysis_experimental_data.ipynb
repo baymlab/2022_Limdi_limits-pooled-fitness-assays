{
 "cells": [
  {
   "cell_type": "markdown",
   "id": "41f5ca40",
   "metadata": {},
   "source": [
    "## Reanalysis of TnSeq data\n",
    "\n",
    "In this notebook, I verify predictions from simulated fitness assays and error estimates using data from my transposon sequencing project on the Long-term evolution experiment. Because we went overboard with sequencing depth, and had multiple timepoints in my analysis, I can downsample data or use fewer timepoints and explore how that changes error estimates. \n",
    "\n",
    "In addition, I performed fitness assays for the LTEE ancestor in LB (with 10 generations per day). This allows me to potentially explore whether in log2(100) generations vs 10 generations per day impacts measurement error."
   ]
  },
  {
   "cell_type": "code",
   "execution_count": 276,
   "id": "e09b6426",
   "metadata": {},
   "outputs": [],
   "source": [
    "#importing libraries\n",
    "import numpy as np\n",
    "from scipy import stats\n",
    "import matplotlib.pyplot as plt\n",
    "from Bio.SeqIO.FastaIO import SimpleFastaParser\n",
    "import re\n",
    "import pandas as pd\n",
    "import seaborn as sns\n",
    "import pathlib\n",
    "import os\n",
    "from scipy.stats import gaussian_kde\n"
   ]
  },
  {
   "cell_type": "code",
   "execution_count": 2,
   "id": "4e7af3a8",
   "metadata": {},
   "outputs": [],
   "source": [
    "sns.set_theme()\n",
    "sns.set_context('paper')\n",
    "sns.set_style('ticks')"
   ]
  },
  {
   "cell_type": "code",
   "execution_count": 3,
   "id": "df364f70",
   "metadata": {},
   "outputs": [
    {
     "name": "stdout",
     "output_type": "stream",
     "text": [
      "/Users/anuraglimdi/github/2022_Limdi_limits-pooled-fitness-assays/AnalysisNotebooks\n"
     ]
    }
   ],
   "source": [
    "#current working directory\n",
    "cwd = os.getcwd()\n",
    "print(cwd)"
   ]
  },
  {
   "cell_type": "code",
   "execution_count": 4,
   "id": "5f9a279e",
   "metadata": {},
   "outputs": [
    {
     "name": "stdout",
     "output_type": "stream",
     "text": [
      "/Users/anuraglimdi/github/2022_Limdi_limits-pooled-fitness-assays\n"
     ]
    }
   ],
   "source": [
    "#use the pathlib.Path function to get the parent directories-> goal is to navigate to directory with the metadata\n",
    "# and the fitness trajectories data\n",
    "path = pathlib.Path(cwd)\n",
    "repo = str(path.parents[0])\n",
    "print(path.parents[0]) #this should be the base directory for the github repository: the exact path will differ for \n",
    "#each unique user"
   ]
  },
  {
   "cell_type": "code",
   "execution_count": 5,
   "id": "c9978d82",
   "metadata": {},
   "outputs": [],
   "source": [
    "#paths for metadat and mutant trajectories\n",
    "metadata_path = repo+'/Metadata/'\n",
    "data_path = repo+'/ProcessedData/Mutant_Trajectories/'"
   ]
  },
  {
   "cell_type": "code",
   "execution_count": 175,
   "id": "c4a51fae",
   "metadata": {},
   "outputs": [],
   "source": [
    "#names of libraries\n",
    "libraries = ['REL606']\n",
    "#more interpretable names for the figures in the paper\n",
    "libraries2 = ['Anc']"
   ]
  },
  {
   "cell_type": "code",
   "execution_count": 7,
   "id": "c34c9a62",
   "metadata": {},
   "outputs": [],
   "source": [
    "#opening the pandas file with all the metadata!\n",
    "all_data = pd.read_csv(metadata_path+\"all_metadata_REL606.txt\", sep=\"\\t\")\n",
    "names = all_data.iloc[:,0]\n",
    "gene_start = all_data.iloc[:,3]\n",
    "gene_end = all_data.iloc[:,4]\n",
    "strand = all_data.iloc[:,5]\n",
    "locations = np.transpose(np.vstack([gene_start,gene_end,strand]))\n",
    "k12_tags = all_data.iloc[:,2]\n",
    "uniprot_rel606 = all_data.iloc[:,6]\n",
    "\n",
    "#genomic coordinates of pseudogenes\n",
    "locations_pseudogenes = np.loadtxt(metadata_path+'pseudogenes_locations_REL606.txt')"
   ]
  },
  {
   "cell_type": "code",
   "execution_count": 8,
   "id": "a47f000e",
   "metadata": {},
   "outputs": [],
   "source": [
    "#fractions of the gene at the 5' and 3' ends to be excluded from analysis because they insertions there may not actually\n",
    "#be disruptive to protein function\n",
    "frac5p = 0.1\n",
    "frac3p = 0.25\n",
    "\n",
    "#reading the REL606 reference genome\n",
    "with open(metadata_path+\"rel606_reference.fasta\") as in_handle:\n",
    "    for title, seq in SimpleFastaParser(in_handle):\n",
    "        ta_sites = [m.start(0) for m in re.finditer('TA', seq)]\n",
    "ta_sites = np.array(ta_sites)\n",
    "\n",
    "#counting how many TA sites are present in the interior of each gene\n",
    "ta_gene = np.zeros(len(names))\n",
    "for i in range(0,len(names)):\n",
    "    start = locations[i, 0]\n",
    "    end = locations[i, 1]\n",
    "    length = end - start\n",
    "    #if the gene is on the forward strand\n",
    "    if locations[i,2]==1:\n",
    "        #counting sites only in the middle of the gene, excluding defined fractions at each end\n",
    "        ta_gene[i] = np.sum((ta_sites > start+length*frac5p)&(ta_sites < end - length*frac3p))\n",
    "    elif locations[i,2]==-1:\n",
    "        ta_gene[i] = np.sum((ta_sites < start+length*frac5p)&(ta_sites > end - length*frac3p))"
   ]
  },
  {
   "cell_type": "markdown",
   "id": "65299c0b",
   "metadata": {},
   "source": [
    "### Here, I want to compare how measurement error varies with true fitness; for this calculation, I will restrict analysis to trajectories that survive to the end of the assay.\n",
    "\n",
    "Reasoning: because we add a pseudocount for trajectories that die out at the first appearance of a zero, fitnesses for essential genes may appear more accurate than they actually are (we're basically doing log(x/1)/6.64, where x is quite similar for the TA sites within the gene)"
   ]
  },
  {
   "cell_type": "code",
   "execution_count": 176,
   "id": "7e5e2230",
   "metadata": {},
   "outputs": [],
   "source": [
    "#all the information from the fitness assay condensed into a couple of matrices\n",
    "counts_all_green = np.zeros([len(libraries), 5, len(ta_sites)])\n",
    "counts_all_red = np.zeros([len(libraries), 5, len(ta_sites)])\n",
    "\n",
    "for k in range(len(libraries)):\n",
    "    #loading the new file where I have the counts for each TA site for all time points\n",
    "    gname = data_path+'green_'+libraries[k]+'_merged_all_TAsites.txt'\n",
    "    greendata = np.loadtxt(gname)\n",
    "    rname = data_path+'red_'+libraries[k]+'_merged_all_TAsites.txt'\n",
    "    reddata = np.loadtxt(rname)\n",
    "    #now for extracting the UMI corrected coutns\n",
    "    counts_all_green[k,:,:] = greendata[2:11:2,:]\n",
    "    counts_all_red[k,:,:] = reddata[2:11:2,:]"
   ]
  },
  {
   "cell_type": "code",
   "execution_count": 177,
   "id": "514205e8",
   "metadata": {},
   "outputs": [],
   "source": [
    "#normalized counts data for each sample:\n",
    "greensum = np.sum(counts_all_green,axis=2)\n",
    "redsum = np.sum(counts_all_red, axis=2)"
   ]
  },
  {
   "cell_type": "markdown",
   "id": "dbf5eca1",
   "metadata": {},
   "source": [
    "### Defining some important functions:\n",
    "\n",
    "`search_gene`: Returns a mask corresponding to sites in the interior of a gene\n",
    "\n",
    "`fitness_estimate`: Calculates fitness estimates and errors from counts data for all genes\n",
    "\n",
    "`downsample`: Downsamples counts data by a specified fold reduction"
   ]
  },
  {
   "cell_type": "code",
   "execution_count": 180,
   "id": "c8ca5011",
   "metadata": {},
   "outputs": [],
   "source": [
    "def search_gene(locations,ta_sites,i):\n",
    "    \"\"\"\n",
    "    Input: \n",
    "    locations: gene coordinates, start, end and orientation\n",
    "    ta_sites: list of TA sites\n",
    "    i: query gene\n",
    "    \n",
    "    Returns:\n",
    "    mask corresponding to the interior of the 'i'th gene in the E. coli genome\n",
    "    \"\"\"\n",
    "    start = locations[i, 0]\n",
    "    end = locations[i, 1]\n",
    "    length = end - start\n",
    "    #if the gene is on the forward strand\n",
    "    if locations[i,2]==1:\n",
    "        search_area = (ta_sites > start+length*frac5p)&(ta_sites < end - length*frac3p)\n",
    "    #if the gene is on the reverse strand\n",
    "    elif locations[i,2]==-1:\n",
    "        search_area = (ta_sites < start+length*frac5p)&(ta_sites > end - length*frac3p)\n",
    "    return search_area"
   ]
  },
  {
   "cell_type": "code",
   "execution_count": 160,
   "id": "ecdd576c",
   "metadata": {},
   "outputs": [],
   "source": [
    "#calculating fitnesses\n",
    "def fitness_estimate(counts_red, counts_green, locs, genes_lost, initial_depth, min_sites, min_frac, max_reads, t_start, t_end):\n",
    "    \"\"\"\n",
    "    data:\n",
    "    - counts_red, counts_green: trajectories for both replicates\n",
    "    - exclude: filtering out genes that are lost/have too few sites from analysis as they're indicated as -1\n",
    "    params:\n",
    "    - locs: start and end points of genes\n",
    "    - initial_depth: exclude sites below a certain threshold in fitness estimation\n",
    "    - min_sites: minimum number of sites required for estimating fitness for each replicate\n",
    "    - min_frac: fraction of TA sites that need to considered in estimating fitness\n",
    "    - site_thresh: minimum number of reads for a trajectory to be included (strictly greater than)\n",
    "    - max_reads: maximum reads that can be used for inverse variance estimate\n",
    "    \n",
    "    \"\"\"\n",
    "    green = np.sum(counts_green,axis=1)\n",
    "    red = np.sum(counts_red, axis=1)\n",
    "    #fitness effect (best estimate)\n",
    "    fitness_inverse_var = np.zeros([len(genes_lost),2])-1\n",
    "    #three different metrics of measurement error\n",
    "    stderr_fitness_inverse_var = np.zeros([len(genes_lost)])-1\n",
    "    #defining time interval based on gene essentiality status:\n",
    "    time_gens = np.linspace(t_start,t_end,t_end-t_start+1)*6.64\n",
    "    \n",
    "    #iterating over all genes that are not lost over evolution\n",
    "    for gene in np.where(genes_lost==0)[0] :\n",
    "        #TA sites within this gene\n",
    "        search_area = search_gene(locations=locs, ta_sites=ta_sites, i=gene)\n",
    "        #weights\n",
    "        weights_green = []\n",
    "        weights_red = []\n",
    "        #fitnesses\n",
    "        s_green = []\n",
    "        s_red = []\n",
    "        \n",
    "        ta = np.sum(search_area==True)\n",
    "        #now, iterating over sites with at least tm1_depth reads at the start of the assay:\n",
    "        for j in np.where((search_area==True))[0]:\n",
    "            if (counts_green[t_start,j]/green[t_start]*10**7>initial_depth) & (counts_red[t_start,j]/red[t_start]*10**7>initial_depth):\n",
    "                #extracting the trajectories\n",
    "                traj_green = counts_green[t_start:t_end+1,j]/green[t_start:t_end+1]*10**7\n",
    "                traj_red = counts_red[t_start:t_end+1,j]/red[t_start:t_end+1]*10**7\n",
    "                n_before_g = traj_green[t_start]\n",
    "                n_before_r = traj_red[t_start]\n",
    "                n_after_g = traj_green[t_start+1]\n",
    "                n_after_r = traj_red[t_start+1]\n",
    "                \n",
    "                #green replicate first\n",
    "                if np.min(traj_green):\n",
    "                    sg = np.polyfit(time_gens, np.log(traj_green), 1)[0]\n",
    "                    wg = min(inverse_var_weight(n_before_g, n_after_g), inverse_var_weight(max_reads, max_reads))\n",
    "                    #sotring the data\n",
    "                    weights_green.append(wg)\n",
    "                    s_green.append(sg)\n",
    "                \n",
    "                #now the red replicate\n",
    "                if np.min(traj_red):\n",
    "                    sr = np.polyfit(time_gens, np.log(traj_red), 1)[0]\n",
    "                    wr = min(inverse_var_weight(n_before_r, n_after_r), inverse_var_weight(max_reads, max_reads))\n",
    "                    #sotring the data\n",
    "                    weights_red.append(wr)\n",
    "                    s_red.append(sr)\n",
    "        \n",
    "        #converting to numpy arrays\n",
    "        s_green = np.array(s_green)\n",
    "        s_red = np.array(s_red)\n",
    "        weights_green = np.array(weights_green)\n",
    "        weights_red = np.array(weights_red)\n",
    "        \n",
    "        #pooling over all sites, require minimum number of sites, and fraction of sites represented\n",
    "        if min(len(s_green),len(s_red))>=min_sites and min(len(s_green),len(s_red))/ta>=min_frac:\n",
    "\n",
    "            #weighing based on inverse variacne:\n",
    "            fitness_inverse_var[gene,0] = np.average(s_green, weights=weights_green)\n",
    "            fitness_inverse_var[gene,1] = np.average(s_red, weights=weights_red)\n",
    "            \n",
    "            #inverse variance weighted standard error measurement\n",
    "            stacked_s = np.hstack([s_green,s_red])\n",
    "            stacked_w = np.hstack([weights_green,weights_red])\n",
    "            average = np.average(stacked_s, weights=stacked_w)\n",
    "            #inverse variance weighted sem\n",
    "            sem_inv = np.sqrt(np.average((stacked_s-average)**2, weights=stacked_w)/(len(stacked_s)-1))\n",
    "            #saving the inverse variance wieghted measurements.\n",
    "            stderr_fitness_inverse_var[gene] = sem_inv\n",
    "            \n",
    "    return fitness_inverse_var, stderr_fitness_inverse_var\n"
   ]
  },
  {
   "cell_type": "code",
   "execution_count": 361,
   "id": "6cb4616e",
   "metadata": {},
   "outputs": [],
   "source": [
    "#calculating fitnesses\n",
    "def fitness_site(counts_red, counts_green, locs, genes_lost, initial_depth, t_start, t_end):\n",
    "    #select insertion mutations with at least a minimum number of reads at the start:\n",
    "    green = np.sum(counts_green,axis=1)\n",
    "    red = np.sum(counts_red, axis=1)\n",
    "    #initial depth is above threshold\n",
    "    condition1 = counts_green[t_start,:]/green[t_start]*10**7>initial_depth\n",
    "    condition2 = counts_red[t_start,:]/red[t_start]*10**7>initial_depth\n",
    "    #trajectories do not die out\n",
    "    condition3 = np.min(counts_green[t_start:t_end+1, :], axis=0) > 0\n",
    "    condition4 = np.min(counts_red[t_start:t_end+1, :], axis=0) > 0\n",
    "    nonzero_sites = np.where(condition1 & condition2 & condition3 & condition4)[0]\n",
    "#     print(nonzero_sites, len(nonzero_sites))\n",
    "    \n",
    "    fitnesses = []\n",
    "    \n",
    "    #defining time interval based on gene essentiality status:\n",
    "    time_gens = np.linspace(t_start,t_end,t_end-t_start+1)*6.64\n",
    "    #iterate over each site and calculate fitness:\n",
    "    for site in nonzero_sites:\n",
    "        traj_green = counts_green[:t_end+1, site]\n",
    "        traj_red = counts_red[:t_end+1, site]\n",
    "#         print(traj_green)\n",
    "        fitnesses.append((np.polyfit(time_gens[:t_end+1], np.log(traj_green), 1)[0] + np.polyfit(time_gens[:t_end+1], np.log(traj_red), 1)[0])*0.5)\n",
    "    \n",
    "    return fitnesses\n",
    "    "
   ]
  },
  {
   "cell_type": "code",
   "execution_count": 179,
   "id": "ad5c733a",
   "metadata": {},
   "outputs": [],
   "source": [
    "def downsample(data, scale):\n",
    "    \"\"\"\n",
    "    Inputs: \n",
    "    - data: counts matrix for bulk fitness assay\n",
    "    - scale: scaling factor for downsampling, must be greater than 1.\n",
    "    \n",
    "    Process:\n",
    "    - downsample number of reads mapping to an insertion site as follows (for each time point, here: by row)\n",
    "    - use np.repeat to get an list with every insertion site repeated N times, where N is the number of mapped reads\n",
    "    - use np.shuffle to rearrange this list\n",
    "    - pick the first 1/scale fraction of this list\n",
    "    - use np.unique to which sites are represented, and how frequently after downsampling.\n",
    "    \n",
    "    Output:\n",
    "    - data_scaled: same shape as data but each row of the matrix downsampled by the scaling factor\n",
    "    \"\"\"\n",
    "    assert scale >= 1, f\"downsampling scale factor must be greater than/equal 1\"\n",
    "    \n",
    "    if scale == 1: #do not downsample the data at all:\n",
    "        return data\n",
    "    \n",
    "    else:\n",
    "        data_scaled = np.zeros_like(data)\n",
    "\n",
    "        for t in range(data.shape[0]): #there are 5 timepoints in the data\n",
    "            #this is the key step in the process, every TA site is repeated as many times as number of reads mapping to it\n",
    "            explicit_data = np.repeat(np.arange(0,data.shape[1]), data[t,:].astype('int'))\n",
    "            #this list is then shuffled\n",
    "            np.random.shuffle(explicit_data)\n",
    "            #and a subset of this list becomes the new data\n",
    "            N_ds = int(data.sum(axis=1)[t]/scale)\n",
    "            #as we shuffled the data, taking the first N_ds reads is equivalent to taking a 1/scale random subset of the data\n",
    "            downsampled = explicit_data[:N_ds]\n",
    "            #getting the counts and unique TA sites represented after downsampling\n",
    "            unique, counts = np.unique(downsampled, return_counts=True)\n",
    "            data_scaled[t,unique] = counts\n",
    "        \n",
    "        return data_scaled"
   ]
  },
  {
   "cell_type": "code",
   "execution_count": 161,
   "id": "90759771",
   "metadata": {},
   "outputs": [],
   "source": [
    "#parameters for filtering out noisy data and selecting which time points to use in analysis\n",
    "min_sites = 2\n",
    "min_frac = 0.2\n",
    "#timepoints to compare:\n",
    "# change this depending on the analysis you want to do!\n",
    "t0 = 0\n",
    "t1 = 4\n",
    "time_range = np.linspace(t0,t1,t1-t0+1)*6.64\n",
    "tm1_depth = 5\n",
    "max_reads = 100"
   ]
  },
  {
   "cell_type": "markdown",
   "id": "90bd2749",
   "metadata": {},
   "source": [
    "### Fig 1: Error as a function of true fitness\n",
    "\n",
    "For this analysis, only using two timepoints of the fitness assay for showing the negative correlation between error and true fitness"
   ]
  },
  {
   "cell_type": "code",
   "execution_count": 233,
   "id": "35a37912",
   "metadata": {},
   "outputs": [],
   "source": [
    "fitness_inverse_var_2, pop_error_inv_2 = fitness_estimate(counts_all_green[0], counts_all_red[0], \n",
    "                                                           genes_lost=np.zeros(len(names)), locs=locations, initial_depth=tm1_depth,\n",
    "                                                           min_frac=min_frac,max_reads=max_reads,\n",
    "                                                           min_sites=min_sites, t_start=0, t_end=1)"
   ]
  },
  {
   "cell_type": "code",
   "execution_count": 293,
   "id": "a7f92619",
   "metadata": {},
   "outputs": [],
   "source": [
    "genes_analyze = np.where(np.mean(fitness_inverse_var_2,axis=1) > -0.5)[0]\n",
    "linreg = stats.linregress(np.mean(fitness_inverse_var_2[genes_analyze],axis=1), pop_error_inv_2[genes_analyze])"
   ]
  },
  {
   "cell_type": "code",
   "execution_count": 303,
   "id": "2db9880f",
   "metadata": {},
   "outputs": [
    {
     "data": {
      "image/png": "[encoded data removed]",
      "text/plain": [
       "<Figure size 432x288 with 1 Axes>"
      ]
     },
     "metadata": {},
     "output_type": "display_data"
    }
   ],
   "source": [
    "x_range = np.linspace(-0.6, 0.2, 100)\n",
    "plt.plot(np.mean(fitness_inverse_var_2,axis=1), pop_error_inv_2, '.', label='Experimental data')\n",
    "plt.plot(x_range, x_range*linreg.slope+linreg.intercept, label='Linear fit, p-value ~ $ 10^{-72}$')\n",
    "plt.xlabel('Fitness estimate of insertion mutation')\n",
    "plt.ylabel('Uncertainty in fitness measurement')\n",
    "plt.legend()\n",
    "plt.xlim(-0.6)\n",
    "plt.ylim(0, 0.15)\n",
    "sns.despine()"
   ]
  },
  {
   "cell_type": "code",
   "execution_count": 296,
   "id": "215a763a",
   "metadata": {},
   "outputs": [
    {
     "name": "stdout",
     "output_type": "stream",
     "text": [
      "p-value of linear regression 1.241671638276303e-72\n"
     ]
    }
   ],
   "source": [
    "print('p-value of linear regression', linreg.pvalue)"
   ]
  },
  {
   "cell_type": "code",
   "execution_count": 289,
   "id": "00b90380",
   "metadata": {},
   "outputs": [],
   "source": [
    "bins = [-0.6, -0.25, -0.2, -0.15, -0.1, -0.05, 0, 0.05]\n",
    "error_mean = np.zeros(7)\n",
    "genes_per_bin = np.zeros(7)\n",
    "for i in range(len(error_mean)):\n",
    "    fitness_range = np.mean(fitness_inverse_var_2,axis=1)\n",
    "    genes_select = np.where((fitness_range>bins[i])&(fitness_range<bins[i+1]))[0]\n",
    "    error_mean[i] = np.mean(pop_error_inv_2[genes_select])\n",
    "    genes_per_bin[i] = len(genes_select)"
   ]
  },
  {
   "cell_type": "code",
   "execution_count": 290,
   "id": "57900966",
   "metadata": {},
   "outputs": [
    {
     "data": {
      "text/plain": [
       "array([  27.,   13.,   32.,   55.,  175., 1261., 1613.])"
      ]
     },
     "execution_count": 290,
     "metadata": {},
     "output_type": "execute_result"
    }
   ],
   "source": [
    "genes_per_bin"
   ]
  },
  {
   "cell_type": "code",
   "execution_count": 291,
   "id": "797ee2d6",
   "metadata": {
    "scrolled": true
   },
   "outputs": [
    {
     "data": {
      "image/png": "[encoded data removed]",
      "text/plain": [
       "<Figure size 432x288 with 1 Axes>"
      ]
     },
     "metadata": {},
     "output_type": "display_data"
    }
   ],
   "source": [
    "labels = ['< -0.25', '-0.25 to -0.2', '-0.2 to -0.15', '-0.15 to -0.1', '-0.1 to -0.05', '-0.05 to 0', '0 to 0.05']\n",
    "plt.plot(labels, error_mean, marker='o', linestyle='-')\n",
    "plt.xticks(rotation=45)\n",
    "plt.xlabel('Fitness range')\n",
    "plt.ylabel('Error in fitness measurement')\n",
    "for i, descr in enumerate(genes_per_bin):\n",
    "    plt.annotate(int(descr), (labels[i], error_mean[i] + 0.0006))\n",
    "sns.despine()\n",
    "plt.show()"
   ]
  },
  {
   "cell_type": "markdown",
   "id": "10014cc6",
   "metadata": {},
   "source": [
    "### Fig 2: Impact of experimental parameters on near-neutral fitness estimates\n",
    "\n",
    "- sequencing depth\n",
    "- number of bottlenecks\n",
    "\n",
    "Other params:\n",
    "- for reanalysis, consider genes within 5% of neutrality as neutral"
   ]
  },
  {
   "cell_type": "code",
   "execution_count": 485,
   "id": "7c2a2421",
   "metadata": {},
   "outputs": [],
   "source": [
    "scaling_range = 1/np.logspace(-2,0,9)\n",
    "days_range = np.linspace(2,5,4).astype('int')\n",
    "s_neut = 0.05"
   ]
  },
  {
   "cell_type": "code",
   "execution_count": 486,
   "id": "aa682432",
   "metadata": {},
   "outputs": [],
   "source": [
    "#matrix for storing the error data\n",
    "error_scaling_days = np.zeros([len(scaling_range),len(days_range)])\n",
    "most_del = np.zeros([len(scaling_range),len(days_range)])"
   ]
  },
  {
   "cell_type": "code",
   "execution_count": 487,
   "id": "e470b5fd",
   "metadata": {},
   "outputs": [],
   "source": [
    "for i in range(len(scaling_range)):\n",
    "    scale = scaling_range[i]\n",
    "    scaled_data_red = downsample(counts_all_red[0], scale)\n",
    "    scaled_data_green = downsample(counts_all_green[0], scale)\n",
    "    for j in range(len(days_range)):\n",
    "        days = days_range[j]\n",
    "        #now run the fitness calculator function;\n",
    "        #an important parameter is initial_depth: should be somewhat scaling with total coverage, but set a minimum\n",
    "        #my approach:\n",
    "        fitnesses, errors = fitness_estimate(scaled_data_green, scaled_data_red, \n",
    "                                             genes_lost=np.zeros(len(names)), locs=locations, \n",
    "                                             initial_depth=2,\n",
    "                                             min_frac=0.1,max_reads=max_reads,\n",
    "                                             min_sites=1, t_start=0, t_end=days-1)\n",
    "        #slicing data only for neutral genes\n",
    "        neutral = np.where(np.abs(np.mean(fitnesses, axis=1))<s_neut)[0]\n",
    "        error_scaling_days[i,j] = np.mean(errors[neutral])\n",
    "        #most deleterious mutations\n",
    "        most_del[i,j] = np.mean(np.sort(np.mean(fitnesses, axis=1)[np.mean(fitnesses, axis=1)>-1])[:10])"
   ]
  },
  {
   "cell_type": "code",
   "execution_count": 488,
   "id": "c823ca0a",
   "metadata": {},
   "outputs": [
    {
     "data": {
      "text/plain": [
       "-0.14031320529147623"
      ]
     },
     "execution_count": 488,
     "metadata": {},
     "output_type": "execute_result"
    }
   ],
   "source": [
    "np.mean(np.sort(np.mean(fitnesses, axis=1)[np.mean(fitnesses, axis=1)>-1])[:10])"
   ]
  },
  {
   "cell_type": "code",
   "execution_count": 489,
   "id": "3d9e210b",
   "metadata": {},
   "outputs": [
    {
     "data": {
      "image/png": "[encoded data removed]",
      "text/plain": [
       "<Figure size 288x288 with 1 Axes>"
      ]
     },
     "metadata": {},
     "output_type": "display_data"
    }
   ],
   "source": [
    "with sns.axes_style('ticks'):\n",
    "    plt.figure(figsize=(4,4))\n",
    "    for i in range(len(days_range)):\n",
    "        plt.plot(1/scaling_range[:], error_scaling_days[:, i], '.-', label=f'{days_range[i]-1} Bottlenecks')\n",
    "        plt.xlabel('Sequencing depth')\n",
    "        plt.ylabel('Uncertainty in fitness measurement')\n",
    "    plt.legend(loc=0)\n",
    "    sns.despine()\n",
    "    plt.show()"
   ]
  },
  {
   "cell_type": "markdown",
   "id": "6e7d5354",
   "metadata": {},
   "source": [
    "Discuss with Michael how to make this figure work"
   ]
  },
  {
   "cell_type": "markdown",
   "id": "e6e17698",
   "metadata": {},
   "source": [
    "### Fig 3/4: Resolution of deleterious fitness effects depends on the sequencing depth and number of bottlenecks"
   ]
  },
  {
   "cell_type": "code",
   "execution_count": 472,
   "id": "5fab8243",
   "metadata": {},
   "outputs": [
    {
     "data": {
      "image/png": "[encoded data removed]",
      "text/plain": [
       "<Figure size 288x288 with 1 Axes>"
      ]
     },
     "metadata": {},
     "output_type": "display_data"
    }
   ],
   "source": [
    "with sns.axes_style('ticks'):\n",
    "    plt.figure(figsize=(4,4))\n",
    "    for i in range(len(days_range)):\n",
    "        plt.plot(1/scaling_range, most_del[:, i], '.-', label=f'{days_range[i]-1} Bottlenecks')\n",
    "        plt.xlabel('Sequencing depth')\n",
    "        plt.ylabel('Average of 10 most deleterious mutations')\n",
    "    plt.legend(loc=0)\n",
    "    sns.despine()\n",
    "    plt.show()"
   ]
  },
  {
   "cell_type": "code",
   "execution_count": null,
   "id": "a44b669a",
   "metadata": {
    "scrolled": true
   },
   "outputs": [],
   "source": []
  },
  {
   "cell_type": "code",
   "execution_count": null,
   "id": "e29c4fdc",
   "metadata": {},
   "outputs": [],
   "source": []
  },
  {
   "cell_type": "code",
   "execution_count": null,
   "id": "3e5a0c10",
   "metadata": {},
   "outputs": [],
   "source": []
  },
  {
   "cell_type": "code",
   "execution_count": null,
   "id": "f8f51916",
   "metadata": {},
   "outputs": [],
   "source": []
  },
  {
   "cell_type": "code",
   "execution_count": null,
   "id": "c957b37f",
   "metadata": {},
   "outputs": [],
   "source": []
  }
 ],
 "metadata": {
  "kernelspec": {
   "display_name": "Python 3 (ipykernel)",
   "language": "python",
   "name": "python3"
  },
  "language_info": {
   "codemirror_mode": {
    "name": "ipython",
    "version": 3
   },
   "file_extension": ".py",
   "mimetype": "text/x-python",
   "name": "python",
   "nbconvert_exporter": "python",
   "pygments_lexer": "ipython3",
   "version": "3.9.13"
  }
 },
 "nbformat": 4,
 "nbformat_minor": 5
}
